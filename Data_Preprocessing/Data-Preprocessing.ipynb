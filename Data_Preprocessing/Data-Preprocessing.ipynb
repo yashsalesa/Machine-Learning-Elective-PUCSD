{
 "cells": [
  {
   "cell_type": "code",
   "execution_count": 1,
   "id": "d2708741",
   "metadata": {
    "_cell_guid": "b1076dfc-b9ad-4769-8c92-a6c4dae69d19",
    "_uuid": "8f2839f25d086af736a60e9eeb907d3b93b6e0e5",
    "execution": {
     "iopub.execute_input": "2022-01-18T06:19:15.190971Z",
     "iopub.status.busy": "2022-01-18T06:19:15.190355Z",
     "iopub.status.idle": "2022-01-18T06:19:15.196186Z",
     "shell.execute_reply": "2022-01-18T06:19:15.195577Z",
     "shell.execute_reply.started": "2022-01-17T15:34:43.40245Z"
    },
    "papermill": {
     "duration": 0.021918,
     "end_time": "2022-01-18T06:19:15.196348",
     "exception": false,
     "start_time": "2022-01-18T06:19:15.174430",
     "status": "completed"
    },
    "tags": []
   },
   "outputs": [],
   "source": [
    "#Data Preprocessing\n",
    "\n",
    "#Importing the Libraries\n",
    "import numpy as np # contains mathematical functions(linear algebra)\n",
    "import matplotlib.pyplot as plt #for plotting graphs\n",
    "import pandas as pd # used to import and manage the dataset\n",
    "\n",
    "\n"
   ]
  },
  {
   "cell_type": "code",
   "execution_count": 2,
   "id": "68673bfe",
   "metadata": {
    "execution": {
     "iopub.execute_input": "2022-01-18T06:19:15.211560Z",
     "iopub.status.busy": "2022-01-18T06:19:15.210967Z",
     "iopub.status.idle": "2022-01-18T06:19:15.241247Z",
     "shell.execute_reply": "2022-01-18T06:19:15.240635Z",
     "shell.execute_reply.started": "2022-01-17T15:34:43.467573Z"
    },
    "papermill": {
     "duration": 0.038838,
     "end_time": "2022-01-18T06:19:15.241420",
     "exception": false,
     "start_time": "2022-01-18T06:19:15.202582",
     "status": "completed"
    },
    "tags": []
   },
   "outputs": [
    {
     "name": "stdout",
     "output_type": "stream",
     "text": [
      "[['France' 44.0 72000.0]\n",
      " ['Spain' 27.0 48000.0]\n",
      " ['Germany' 30.0 54000.0]\n",
      " ['Spain' 38.0 61000.0]\n",
      " ['Germany' 40.0 nan]\n",
      " ['France' 35.0 58000.0]\n",
      " ['Spain' nan 52000.0]\n",
      " ['France' 48.0 79000.0]\n",
      " ['Germany' 50.0 83000.0]\n",
      " ['France' 37.0 67000.0]]\n",
      "['No' 'Yes' 'No' 'No' 'Yes' 'Yes' 'No' 'Yes' 'No' 'Yes']\n"
     ]
    }
   ],
   "source": [
    "#Importing the Dataset\n",
    "\n",
    "dataset=pd.read_csv(\"../input/purchaseddata/Data.csv\")   #pandas is the libray used for reading dataset and the file is the csv file\n",
    "X = dataset.iloc[:,:-1].values    #X is a dataframe which will contain all independent variables(input) together\n",
    "                                  #iloc -index location       #.values gives the content value of column\n",
    "#we are going from 0 to -1 where -1 is the last column. As -1 represents last element -2 the second last element and so on\n",
    "#:-1 will exclude the last column as we have to exclude the last column purchased because that is dependent column\n",
    "\n",
    "Y = dataset.iloc[:,-1].values #dataframe will contain dependent(output that we need to predict) variable\n",
    "#X and Y are numpy arrays\n",
    "print(X)\n",
    "print(Y)"
   ]
  },
  {
   "cell_type": "code",
   "execution_count": 3,
   "id": "854896d1",
   "metadata": {
    "execution": {
     "iopub.execute_input": "2022-01-18T06:19:15.260696Z",
     "iopub.status.busy": "2022-01-18T06:19:15.260103Z",
     "iopub.status.idle": "2022-01-18T06:19:16.448411Z",
     "shell.execute_reply": "2022-01-18T06:19:16.448910Z",
     "shell.execute_reply.started": "2022-01-17T15:34:43.542195Z"
    },
    "papermill": {
     "duration": 1.201128,
     "end_time": "2022-01-18T06:19:16.449096",
     "exception": false,
     "start_time": "2022-01-18T06:19:15.247968",
     "status": "completed"
    },
    "tags": []
   },
   "outputs": [
    {
     "name": "stdout",
     "output_type": "stream",
     "text": [
      "[['France' 44.0 72000.0]\n",
      " ['Spain' 27.0 48000.0]\n",
      " ['Germany' 30.0 54000.0]\n",
      " ['Spain' 38.0 61000.0]\n",
      " ['Germany' 40.0 63777.77777777778]\n",
      " ['France' 35.0 58000.0]\n",
      " ['Spain' 38.77777777777778 52000.0]\n",
      " ['France' 48.0 79000.0]\n",
      " ['Germany' 50.0 83000.0]\n",
      " ['France' 37.0 67000.0]]\n",
      "['No' 'Yes' 'No' 'No' 'Yes' 'Yes' 'No' 'Yes' 'No' 'Yes']\n"
     ]
    }
   ],
   "source": [
    "#Handle Missing Values\n",
    "from sklearn.impute import SimpleImputer  #it contains all the machine learning models in terms of classes and methods\n",
    "                                          #impute is a class        #SimpleImputer is a class\n",
    "imputer=SimpleImputer(missing_values=np.nan,strategy='mean')   #statergy is to take the mean of the column  \n",
    "imputer.fit(X[:,1:3]) #It will check for 2nd and 3rd columns  for the missing values and it will use the stratergy of men and it will fit there\n",
    "#imputer is the object we created for class SimpleImputer\n",
    "X[:,1:3]=imputer.transform(X[:,1:3])\n",
    "print(X)\n",
    "print(Y)"
   ]
  },
  {
   "cell_type": "code",
   "execution_count": 4,
   "id": "8e904ba8",
   "metadata": {
    "execution": {
     "iopub.execute_input": "2022-01-18T06:19:16.467538Z",
     "iopub.status.busy": "2022-01-18T06:19:16.466604Z",
     "iopub.status.idle": "2022-01-18T06:19:16.480113Z",
     "shell.execute_reply": "2022-01-18T06:19:16.479565Z",
     "shell.execute_reply.started": "2022-01-17T15:34:43.592298Z"
    },
    "papermill": {
     "duration": 0.0249,
     "end_time": "2022-01-18T06:19:16.480249",
     "exception": false,
     "start_time": "2022-01-18T06:19:16.455349",
     "status": "completed"
    },
    "tags": []
   },
   "outputs": [
    {
     "name": "stdout",
     "output_type": "stream",
     "text": [
      "[[1.0 0.0 0.0 44.0 72000.0]\n",
      " [0.0 0.0 1.0 27.0 48000.0]\n",
      " [0.0 1.0 0.0 30.0 54000.0]\n",
      " [0.0 0.0 1.0 38.0 61000.0]\n",
      " [0.0 1.0 0.0 40.0 63777.77777777778]\n",
      " [1.0 0.0 0.0 35.0 58000.0]\n",
      " [0.0 0.0 1.0 38.77777777777778 52000.0]\n",
      " [1.0 0.0 0.0 48.0 79000.0]\n",
      " [0.0 1.0 0.0 50.0 83000.0]\n",
      " [1.0 0.0 0.0 37.0 67000.0]]\n"
     ]
    }
   ],
   "source": [
    "#Encoding Categorical Data\n",
    "\n",
    "#1. Encode independent variable\n",
    "from sklearn.compose import ColumnTransformer #for encoding\n",
    "from sklearn.preprocessing import OneHotEncoder#for creating dummy variables eg.creates column for each country  \n",
    "ct=ColumnTransformer(transformers=[(\"encoder\",OneHotEncoder(),[0])],remainder=\"passthrough\")#to convert textual data into numeric data\n",
    "X=np.array(ct.fit_transform(X))\n",
    "print(X)"
   ]
  },
  {
   "cell_type": "code",
   "execution_count": 5,
   "id": "83d5aa5d",
   "metadata": {
    "execution": {
     "iopub.execute_input": "2022-01-18T06:19:16.496357Z",
     "iopub.status.busy": "2022-01-18T06:19:16.495724Z",
     "iopub.status.idle": "2022-01-18T06:19:16.501846Z",
     "shell.execute_reply": "2022-01-18T06:19:16.502253Z",
     "shell.execute_reply.started": "2022-01-17T15:34:43.632256Z"
    },
    "papermill": {
     "duration": 0.015679,
     "end_time": "2022-01-18T06:19:16.502431",
     "exception": false,
     "start_time": "2022-01-18T06:19:16.486752",
     "status": "completed"
    },
    "tags": []
   },
   "outputs": [
    {
     "name": "stdout",
     "output_type": "stream",
     "text": [
      "[0 1 0 0 1 1 0 1 0 1]\n"
     ]
    }
   ],
   "source": [
    "#Encode dependent variable\n",
    "\n",
    "from sklearn.preprocessing import LabelEncoder \n",
    "le=LabelEncoder()\n",
    "Y=le.fit_transform(Y)\n",
    "print(Y)"
   ]
  },
  {
   "cell_type": "code",
   "execution_count": 6,
   "id": "6d30c8e6",
   "metadata": {
    "execution": {
     "iopub.execute_input": "2022-01-18T06:19:16.521164Z",
     "iopub.status.busy": "2022-01-18T06:19:16.520550Z",
     "iopub.status.idle": "2022-01-18T06:19:16.527320Z",
     "shell.execute_reply": "2022-01-18T06:19:16.526732Z",
     "shell.execute_reply.started": "2022-01-17T15:34:43.687136Z"
    },
    "papermill": {
     "duration": 0.018191,
     "end_time": "2022-01-18T06:19:16.527453",
     "exception": false,
     "start_time": "2022-01-18T06:19:16.509262",
     "status": "completed"
    },
    "tags": []
   },
   "outputs": [
    {
     "name": "stdout",
     "output_type": "stream",
     "text": [
      "[[0.0 0.0 1.0 38.77777777777778 52000.0]\n",
      " [0.0 1.0 0.0 40.0 63777.77777777778]\n",
      " [1.0 0.0 0.0 44.0 72000.0]\n",
      " [0.0 0.0 1.0 38.0 61000.0]\n",
      " [0.0 0.0 1.0 27.0 48000.0]\n",
      " [1.0 0.0 0.0 48.0 79000.0]\n",
      " [0.0 1.0 0.0 50.0 83000.0]\n",
      " [1.0 0.0 0.0 35.0 58000.0]]\n",
      "[[0.0 1.0 0.0 30.0 54000.0]\n",
      " [1.0 0.0 0.0 37.0 67000.0]]\n",
      "[0 1 0 0 1 1 0 1]\n",
      "[0 1]\n"
     ]
    }
   ],
   "source": [
    "#Splitting the dataset into training and test set\n",
    "\n",
    "from sklearn.model_selection import train_test_split\n",
    "X_train,X_test,Y_train,Y_test=train_test_split(X,Y,test_size=0.2,random_state=1)#randomly it will select 80% records for training and 20% for testing \n",
    "print(X_train)\n",
    "print(X_test)\n",
    "print(Y_train)\n",
    "print(Y_test)"
   ]
  },
  {
   "cell_type": "code",
   "execution_count": 7,
   "id": "5e4085b2",
   "metadata": {
    "execution": {
     "iopub.execute_input": "2022-01-18T06:19:16.544561Z",
     "iopub.status.busy": "2022-01-18T06:19:16.543932Z",
     "iopub.status.idle": "2022-01-18T06:19:16.551489Z",
     "shell.execute_reply": "2022-01-18T06:19:16.550901Z",
     "shell.execute_reply.started": "2022-01-17T15:34:43.74746Z"
    },
    "papermill": {
     "duration": 0.017153,
     "end_time": "2022-01-18T06:19:16.551628",
     "exception": false,
     "start_time": "2022-01-18T06:19:16.534475",
     "status": "completed"
    },
    "tags": []
   },
   "outputs": [
    {
     "name": "stdout",
     "output_type": "stream",
     "text": [
      "[[0.0 0.0 1.0 -0.19159184384578545 -1.0781259408412425]\n",
      " [0.0 1.0 0.0 -0.014117293757057777 -0.07013167641635372]\n",
      " [1.0 0.0 0.0 0.566708506533324 0.633562432710455]\n",
      " [0.0 0.0 1.0 -0.30453019390224867 -0.30786617274297867]\n",
      " [0.0 0.0 1.0 -1.9018011447007988 -1.420463615551582]\n",
      " [1.0 0.0 0.0 1.1475343068237058 1.232653363453549]\n",
      " [0.0 1.0 0.0 1.4379472069688968 1.5749910381638885]\n",
      " [1.0 0.0 0.0 -0.7401495441200351 -0.5646194287757332]]\n",
      "[[0.0 1.0 0.0 -1.4661817944830124 -0.9069571034860727]\n",
      " [1.0 0.0 0.0 -0.44973664397484414 0.2056403393225306]]\n"
     ]
    }
   ],
   "source": [
    "#Feature Scaling   Also called as Normalization process        (will try to find the euclidean distance between Age and salary and values to same scale)\n",
    "from sklearn.preprocessing import StandardScaler #StandardScaler converts all values from -1 to 1\n",
    "sc=StandardScaler()\n",
    "X_train[:,3:]=sc.fit_transform(X_train[:,3:])\n",
    "X_test[:,3:]=sc.transform(X_test[:,3:])\n",
    "#now the values for age and salary column should cahnge to the values in the range from -1 to 1\n",
    "print(X_train)\n",
    "print(X_test)"
   ]
  }
 ],
 "metadata": {
  "kernelspec": {
   "display_name": "Python 3",
   "language": "python",
   "name": "python3"
  },
  "language_info": {
   "codemirror_mode": {
    "name": "ipython",
    "version": 3
   },
   "file_extension": ".py",
   "mimetype": "text/x-python",
   "name": "python",
   "nbconvert_exporter": "python",
   "pygments_lexer": "ipython3",
   "version": "3.7.12"
  },
  "papermill": {
   "default_parameters": {},
   "duration": 10.883377,
   "end_time": "2022-01-18T06:19:17.268097",
   "environment_variables": {},
   "exception": null,
   "input_path": "__notebook__.ipynb",
   "output_path": "__notebook__.ipynb",
   "parameters": {},
   "start_time": "2022-01-18T06:19:06.384720",
   "version": "2.3.3"
  }
 },
 "nbformat": 4,
 "nbformat_minor": 5
}
